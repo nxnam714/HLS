{
 "cells": [
  {
   "cell_type": "code",
   "execution_count": 1,
   "metadata": {},
   "outputs": [],
   "source": [
    "%matplotlib inline"
   ]
  },
  {
   "cell_type": "code",
   "execution_count": 2,
   "metadata": {},
   "outputs": [
    {
     "data": {
      "application/javascript": [
       "\n",
       "require(['notebook/js/codecell'], function(codecell) {\n",
       "  codecell.CodeCell.options_default.highlight_modes[\n",
       "      'magic_text/x-csrc'] = {'reg':[/^%%microblaze/]};\n",
       "  Jupyter.notebook.events.one('kernel_ready.Kernel', function(){\n",
       "      Jupyter.notebook.get_cells().map(function(cell){\n",
       "          if (cell.cell_type == 'code'){ cell.auto_highlight(); } }) ;\n",
       "  });\n",
       "});\n"
      ]
     },
     "metadata": {},
     "output_type": "display_data"
    }
   ],
   "source": [
    "from pynq import Xlnk\n",
    "from pynq import Overlay\n",
    "from pynq import DefaultIP\n",
    "from pynq import DefaultHierarchy\n",
    "xlnk = Xlnk()"
   ]
  },
  {
   "cell_type": "code",
   "execution_count": 3,
   "metadata": {},
   "outputs": [],
   "source": [
    "from skimage import measure\n",
    "from skimage.io import imread\n",
    "from skimage.measure import regionprops\n",
    "import matplotlib.pyplot as plt\n",
    "import matplotlib.patches as patches\n",
    "from skimage.filters import threshold_otsu\n",
    "import cv2\n",
    "import numpy as np\n",
    "from PIL import Image\n",
    "import time"
   ]
  },
  {
   "cell_type": "code",
   "execution_count": 4,
   "metadata": {},
   "outputs": [],
   "source": [
    "class LabelAccelerate(DefaultHierarchy):\n",
    "    def __init__(self, description):\n",
    "        super().__init__(description=description)\n",
    "        \n",
    "    #bindto = ['xilinx.com:hls:hw_label_accel:1.0']\n",
    "       \n",
    "    def hw_label_f(self, image):\n",
    "        (height, width) = image.shape\n",
    "        self.label_accel.write(0x10, height)\n",
    "        self.label_accel.write(0x18, width)\n",
    "        with xlnk.cma_array(shape=(height, width), \\\n",
    "                            dtype=np.uint8, cacheable=1) as in_buffer,\\\n",
    "             xlnk.cma_array(shape=(height, width), \\\n",
    "                            dtype=np.uint16, cacheable=1) as out_buffer:\n",
    "            \n",
    "            in_buffer[0:height*width] = image\n",
    "            self.label_dma.sendchannel.transfer(in_buffer)\n",
    "            self.label_dma.recvchannel.transfer(out_buffer)\n",
    "            self.label_accel.write(0x00,0x81) # start\n",
    "            \n",
    "            self.label_dma.sendchannel.wait()\n",
    "            self.label_dma.recvchannel.wait()\n",
    "            \n",
    "        return out_buffer\n",
    "    @staticmethod\n",
    "    def checkhierarchy(description):\n",
    "        if 'label_dma' in description['ip'] \\\n",
    "           and 'label_accel' in description['ip']:\n",
    "            return True\n",
    "        return False\n",
    "    "
   ]
  },
  {
   "cell_type": "code",
   "execution_count": 5,
   "metadata": {},
   "outputs": [],
   "source": [
    "image_path = \"images/car.jpg\"\n",
    "imagepaths = [\"images/car0.jpg\", \"images/car1.jpg\", \"images/car2.jpg\", \"images/car3.jpg\", \"images/car4.jpg\",\n",
    "              \"images/car5.jpg\", \"images/car6.jpg\", \"images/car7.jpg\", \"images/car8.jpg\", \"images/car9.jpg\" ]"
   ]
  },
  {
   "cell_type": "code",
   "execution_count": 6,
   "metadata": {},
   "outputs": [],
   "source": [
    "gray_car_images = []\n",
    "for idx in range(len(imagepaths)):\n",
    "    imagepath = imagepaths[idx]\n",
    "    gray_car_image = cv2.imread(imagepath, 0)\n",
    "    gray_car_images.append(gray_car_image)"
   ]
  },
  {
   "cell_type": "code",
   "execution_count": 7,
   "metadata": {},
   "outputs": [],
   "source": [
    "binary_car_images = []\n",
    "for idx in range(len(imagepaths)):\n",
    "    #fig, (ax1, ax2) = plt.subplots(1, 2)\n",
    "    #ax1.imshow(gray_car_image, cmap=\"gray\")\n",
    "    threshold_value = threshold_otsu(gray_car_images[idx])\n",
    "    binary_car_image = (gray_car_images[idx] > threshold_value) *255\n",
    "    binary_car_images.append(binary_car_image)\n",
    "    #ax2.imshow(binary_car_image, cmap=\"gray\")\n",
    "    #plt.show()"
   ]
  },
  {
   "cell_type": "code",
   "execution_count": 8,
   "metadata": {},
   "outputs": [
    {
     "name": "stdout",
     "output_type": "stream",
     "text": [
      "Image size: 472x303 pixels.\n"
     ]
    }
   ],
   "source": [
    "height, width = binary_car_image.shape\n",
    "print(\"Image size: {}x{} pixels.\".format(width, height))"
   ]
  },
  {
   "cell_type": "code",
   "execution_count": 9,
   "metadata": {},
   "outputs": [
    {
     "name": "stdout",
     "output_type": "stream",
     "text": [
      "0.016510725021362305\n",
      "0.015825510025024414\n",
      "0.01642632484436035\n",
      "0.013448953628540039\n",
      "0.01260066032409668\n",
      "0.019206523895263672\n",
      "0.014343023300170898\n",
      "0.017320632934570312\n",
      "0.014812469482421875\n",
      "0.01422262191772461\n"
     ]
    }
   ],
   "source": [
    "for idx in range(len(imagepaths)):\n",
    "    start = time.time()\n",
    "    label_image_sw = measure.label(binary_car_images[idx])\n",
    "    end = time.time()\n",
    "    print(end - start)"
   ]
  },
  {
   "cell_type": "code",
   "execution_count": 10,
   "metadata": {},
   "outputs": [
    {
     "name": "stdout",
     "output_type": "stream",
     "text": [
      "0.053406715393066406\n",
      "0.045218706130981445\n",
      "0.06159853935241699\n",
      "0.04402518272399902\n",
      "0.038800716400146484\n",
      "0.07711100578308105\n",
      "0.04973244667053223\n",
      "0.06786131858825684\n",
      "0.05170273780822754\n",
      "0.04935717582702637\n"
     ]
    }
   ],
   "source": [
    "design = Overlay(\"label.bit\")\n",
    "for idx in range(len(imagepaths)):\n",
    "    start = time.time()\n",
    "    label_image_hw = design.hw_label_accel.hw_label_f(binary_car_images[idx])\n",
    "    end = time.time()\n",
    "    print(end - start)"
   ]
  },
  {
   "cell_type": "code",
   "execution_count": 11,
   "metadata": {},
   "outputs": [],
   "source": [
    "plate_dimensions = (0.04*label_image_hw.shape[0], 0.1*label_image_hw.shape[0], 0.15*label_image_hw.shape[1], 0.4*label_image_hw.shape[1])\n",
    "min_height, max_height, min_width, max_width = plate_dimensions"
   ]
  },
  {
   "cell_type": "code",
   "execution_count": 12,
   "metadata": {},
   "outputs": [],
   "source": [
    "plate_objects_cordinates_hw = []\n",
    "plate_like_objects_hw = []\n",
    "for region in regionprops(label_image_hw):\n",
    "        if region.area < 50:\n",
    "            continue\n",
    "        Min_row, Min_col, Max_row, Max_col = region.bbox\n",
    "        region_height = Max_row - Min_row\n",
    "        region_width = Max_col - Min_col\n",
    "        ratio = float(region_width) / region_height\n",
    "        if(3<ratio<5 \n",
    "        and max_height >= region_height >= min_height \n",
    "        and max_width >= region_width >= min_width):\n",
    "            plate_like_objects_hw.append(binary_car_image[Min_row:Max_row, Min_col:Max_col])\n",
    "            plate_objects_cordinates_hw.append((Min_row, Min_col, Max_row, Max_col))"
   ]
  },
  {
   "cell_type": "code",
   "execution_count": 13,
   "metadata": {},
   "outputs": [],
   "source": [
    "plate_objects_cordinates_sw = []\n",
    "plate_like_objects_sw = []\n",
    "for region in regionprops(label_image_sw):\n",
    "        if region.area < 50:\n",
    "            continue\n",
    "        Min_row, Min_col, Max_row, Max_col = region.bbox\n",
    "        region_height = Max_row - Min_row\n",
    "        region_width = Max_col - Min_col\n",
    "        ratio = float(region_width) / region_height\n",
    "        if(3<ratio<5 \n",
    "        and max_height >= region_height >= min_height \n",
    "        and max_width >= region_width >= min_width):\n",
    "            plate_like_objects_sw.append(binary_car_image[Min_row:Max_row, Min_col:Max_col])\n",
    "            plate_objects_cordinates_sw.append((Min_row, Min_col, Max_row, Max_col))"
   ]
  },
  {
   "cell_type": "code",
   "execution_count": 14,
   "metadata": {},
   "outputs": [
    {
     "data": {
      "image/png": "[encoded data removed]",
      "text/plain": [
       "<matplotlib.figure.Figure at 0x7f83f62eb8>"
      ]
     },
     "metadata": {},
     "output_type": "display_data"
    }
   ],
   "source": [
    "for i in range(len(plate_like_objects_hw)):\n",
    "    plt.imshow(np.invert(plate_like_objects_hw[i]), cmap=\"gray\")\n",
    "    plt.show()"
   ]
  },
  {
   "cell_type": "code",
   "execution_count": 15,
   "metadata": {},
   "outputs": [
    {
     "data": {
      "image/png": "[encoded data removed]",
      "text/plain": [
       "<matplotlib.figure.Figure at 0x7f749aab00>"
      ]
     },
     "metadata": {},
     "output_type": "display_data"
    }
   ],
   "source": [
    "for i in range(len(plate_like_objects_sw)):\n",
    "    plt.imshow(np.invert(plate_like_objects_sw[i]), cmap=\"gray\")\n",
    "    plt.show()"
   ]
  },
  {
   "cell_type": "code",
   "execution_count": null,
   "metadata": {},
   "outputs": [],
   "source": [
    "xlnk.xlnk_reset()"
   ]
  },
  {
   "cell_type": "code",
   "execution_count": null,
   "metadata": {},
   "outputs": [],
   "source": []
  }
 ],
 "metadata": {
  "kernelspec": {
   "display_name": "Python 3",
   "language": "python",
   "name": "python3"
  },
  "language_info": {
   "codemirror_mode": {
    "name": "ipython",
    "version": 3
   },
   "file_extension": ".py",
   "mimetype": "text/x-python",
   "name": "python",
   "nbconvert_exporter": "python",
   "pygments_lexer": "ipython3",
   "version": "3.6.5"
  }
 },
 "nbformat": 4,
 "nbformat_minor": 2
}
